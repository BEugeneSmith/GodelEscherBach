{
 "cells": [
  {
   "cell_type": "code",
   "execution_count": null,
   "metadata": {
    "collapsed": true
   },
   "outputs": [],
   "source": [
    "from random import randrange,randint\n",
    "import pandas as pd"
   ]
  },
  {
   "cell_type": "code",
   "execution_count": null,
   "metadata": {
    "collapsed": true
   },
   "outputs": [],
   "source": [
    "def gen_axiom(maxlen=3):\n",
    "    borel_field = 'MIU'\n",
    "    return ''.join([borel_field[randrange(0,3)] for i in range(maxlen)])"
   ]
  },
  {
   "cell_type": "code",
   "execution_count": null,
   "metadata": {
    "collapsed": true
   },
   "outputs": [],
   "source": [
    "def rule1(s):\n",
    "    if s[-1] == 'I':\n",
    "        return s + 'U'\n",
    "    return s\n",
    "\n",
    "def rule2(s):\n",
    "    if s[0] == 'M':\n",
    "        return 'M' + s[1:] + s[1:]\n",
    "    return s\n",
    "\n",
    "def rule3(s):\n",
    "    if \"III\" in s:\n",
    "        return s.replace(\"III\",\"U\")\n",
    "    else:\n",
    "        return s\n",
    "    \n",
    "def rule4(s):\n",
    "    if \"UU\" in s:\n",
    "        return s.replace(\"UU\",\"\")\n",
    "    return s"
   ]
  },
  {
   "cell_type": "code",
   "execution_count": null,
   "metadata": {
    "collapsed": true
   },
   "outputs": [],
   "source": [
    "def gen_derivation(axiom,derivations=10,rules=[rule1,rule2,rule3,rule4]):\n",
    "    theorem = []\n",
    "    for i in range(derivations):\n",
    "        func = rules[randrange(0,4)]\n",
    "        derivation = func(axiom)\n",
    "        if derivation == '':\n",
    "            theorem.append(axiom)\n",
    "            return theorem,len(theorem)\n",
    "        axiom = derivation\n",
    "        theorem.append(axiom)\n",
    "    return theorem,len(theorem)"
   ]
  },
  {
   "cell_type": "code",
   "execution_count": null,
   "metadata": {},
   "outputs": [],
   "source": [
    "def get_first_cliff_and_drop(diff_lens,diffs):\n",
    "    cliff_drops = {\n",
    "        'drop_ixs':[],\n",
    "        'cliffs':[],\n",
    "        'drops':[],\n",
    "        'cliff_drop_diff':[],\n",
    "        'pct_cliff_drop_diff':[],\n",
    "        'overall_change':[]\n",
    "    }\n",
    "     \n",
    "    for ix,val in enumerate(diffs):\n",
    "        if (val<0) and (diffs[ix+1] >= 0):\n",
    "            cliff_drops['overall_change'].append(sum(diffs))\n",
    "            cliff_drops['drop_ixs'].append(ix+1)\n",
    "            cliff_drops['cliffs'].append(diff_lens[ix])\n",
    "            cliff_drops['drops'].append(diff_lens[ix+1])\n",
    "            \n",
    "            cliff_drop_diff = diff_lens[ix]-diff_lens[ix+1]\n",
    "            cliff_drops['cliff_drop_diff'].append(cliff_drop_diff)\n",
    "            cliff_drops['pct_cliff_drop_diff'].append(cliff_drop_diff/diff_lens[ix])\n",
    "    return cliff_drops"
   ]
  },
  {
   "cell_type": "code",
   "execution_count": null,
   "metadata": {
    "collapsed": true
   },
   "outputs": [],
   "source": [
    "def create_random_axiom_dataset(nsamples=20,max_axiom_size=3,max_derivations=20):\n",
    "    sample_data = []\n",
    "    for i in range(nsamples):\n",
    "        axiom = gen_axiom(maxlen=randint(2,max_axiom_size))\n",
    "        derivations,derivation_len = gen_derivation(axiom,max_derivations)\n",
    "        diff_lens = [len(step) for step in derivations]\n",
    "        diffs = [diff_lens[i] - diff_lens[i-1] for i in range(len(diff_lens))][1:]\n",
    "\n",
    "        try:\n",
    "            metadata = pd.DataFrame(get_first_cliff_and_drop(diff_lens,diffs))\n",
    "            metadata.loc[:,'axiom'] = axiom\n",
    "            metadata.loc[:,'axiom_len'] = len(axiom)\n",
    "            metadata.loc[:,'sample_id'] = str(i)\n",
    "            metadata.loc[:,'derivation_length'] = derivation_len\n",
    "            sample_data.append(metadata)\n",
    "        except:\n",
    "            continue\n",
    "    return pd.concat(sample_data)"
   ]
  },
  {
   "cell_type": "code",
   "execution_count": null,
   "metadata": {},
   "outputs": [],
   "source": [
    "random_data = create_random_axiom_dataset(nsamples=100,max_axiom_size=3,max_derivations=50)"
   ]
  },
  {
   "cell_type": "code",
   "execution_count": null,
   "metadata": {
    "collapsed": true
   },
   "outputs": [],
   "source": []
  }
 ],
 "metadata": {
  "kernelspec": {
   "display_name": "Python [conda root]",
   "language": "python",
   "name": "conda-root-py"
  },
  "language_info": {
   "codemirror_mode": {
    "name": "ipython",
    "version": 3
   },
   "file_extension": ".py",
   "mimetype": "text/x-python",
   "name": "python",
   "nbconvert_exporter": "python",
   "pygments_lexer": "ipython3",
   "version": "3.5.3"
  }
 },
 "nbformat": 4,
 "nbformat_minor": 2
}

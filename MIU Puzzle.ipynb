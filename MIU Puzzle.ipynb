{
 "cells": [
  {
   "cell_type": "code",
   "execution_count": 1,
   "metadata": {
    "collapsed": true
   },
   "outputs": [],
   "source": [
    "from random import randrange"
   ]
  },
  {
   "cell_type": "code",
   "execution_count": 2,
   "metadata": {
    "collapsed": true
   },
   "outputs": [],
   "source": [
    "def gen_axiom(maxlen=3):\n",
    "    borel_field = 'MIU'\n",
    "    return ''.join([borel_field[randrange(0,3)] for i in range(maxlen)])"
   ]
  },
  {
   "cell_type": "code",
   "execution_count": 3,
   "metadata": {
    "collapsed": true
   },
   "outputs": [],
   "source": [
    "def rule1(s):\n",
    "    if s[-1] == 'I':\n",
    "        return s + 'U'\n",
    "    return s\n",
    "\n",
    "def rule2(s):\n",
    "    if s[0] == 'M':\n",
    "        return 'M' + s[1:] + s[1:]\n",
    "    return s\n",
    "\n",
    "def rule3(s):\n",
    "    if \"III\" in s:\n",
    "        return s.replace(\"III\",\"U\")\n",
    "    else:\n",
    "        return s\n",
    "    \n",
    "def rule4(s):\n",
    "    if \"UU\" in s:\n",
    "        return s.replace(\"UU\",\"\")\n",
    "    return s"
   ]
  },
  {
   "cell_type": "code",
   "execution_count": 4,
   "metadata": {},
   "outputs": [],
   "source": [
    "def gen_derivation(axiom,derivations=10,rules=[rule1,rule2,rule3,rule4]):\n",
    "    theorem = []\n",
    "    for i in range(derivations):\n",
    "        func = rules[randrange(0,4)]\n",
    "        derivation = func(axiom)\n",
    "        if derivation == '':\n",
    "            theorem.append(axiom)\n",
    "            return theorem\n",
    "        axiom = derivation\n",
    "        theorem.append(axiom)\n",
    "    return theorem"
   ]
  },
  {
   "cell_type": "code",
   "execution_count": 5,
   "metadata": {},
   "outputs": [
    {
     "data": {
      "text/plain": [
       "['UMI',\n",
       " 'UMIU',\n",
       " 'UMIU',\n",
       " 'UMIU',\n",
       " 'UMIU',\n",
       " 'UMIU',\n",
       " 'UMIU',\n",
       " 'UMIU',\n",
       " 'UMIU',\n",
       " 'UMIU',\n",
       " 'UMIU',\n",
       " 'UMIU',\n",
       " 'UMIU',\n",
       " 'UMIU',\n",
       " 'UMIU']"
      ]
     },
     "execution_count": 5,
     "metadata": {},
     "output_type": "execute_result"
    }
   ],
   "source": [
    "axiom = gen_axiom(maxlen=3)\n",
    "derivation = gen_derivation(axiom,derivations=15)\n",
    "derivation"
   ]
  },
  {
   "cell_type": "code",
   "execution_count": 6,
   "metadata": {},
   "outputs": [
    {
     "data": {
      "text/plain": [
       "[3, 4, 4, 4, 4, 4, 4, 4, 4, 4, 4, 4, 4, 4, 4]"
      ]
     },
     "execution_count": 6,
     "metadata": {},
     "output_type": "execute_result"
    }
   ],
   "source": [
    "diff_lens = [len(step) for step in derivation]\n",
    "diff_lens"
   ]
  },
  {
   "cell_type": "code",
   "execution_count": 7,
   "metadata": {},
   "outputs": [
    {
     "data": {
      "text/plain": [
       "[1, 0, 0, 0, 0, 0, 0, 0, 0, 0, 0, 0, 0, 0]"
      ]
     },
     "execution_count": 7,
     "metadata": {},
     "output_type": "execute_result"
    }
   ],
   "source": [
    "diffs = [diff_lens[i] - diff_lens[i-1] for i in range(len(diff_lens))][1:]\n",
    "diffs"
   ]
  },
  {
   "cell_type": "code",
   "execution_count": null,
   "metadata": {
    "collapsed": true
   },
   "outputs": [],
   "source": []
  }
 ],
 "metadata": {
  "kernelspec": {
   "display_name": "Python [conda root]",
   "language": "python",
   "name": "conda-root-py"
  },
  "language_info": {
   "codemirror_mode": {
    "name": "ipython",
    "version": 3
   },
   "file_extension": ".py",
   "mimetype": "text/x-python",
   "name": "python",
   "nbconvert_exporter": "python",
   "pygments_lexer": "ipython3",
   "version": "3.5.3"
  }
 },
 "nbformat": 4,
 "nbformat_minor": 2
}

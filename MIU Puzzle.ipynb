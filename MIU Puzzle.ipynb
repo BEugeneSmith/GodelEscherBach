{
 "cells": [
  {
   "cell_type": "code",
   "execution_count": 1,
   "metadata": {
    "collapsed": true
   },
   "outputs": [],
   "source": [
    "from random import randrange"
   ]
  },
  {
   "cell_type": "code",
   "execution_count": 2,
   "metadata": {},
   "outputs": [],
   "source": [
    "def rule1(s):\n",
    "    if s[-1] == 'I':\n",
    "        return s + 'U'\n",
    "    return s\n",
    "\n",
    "def rule2(s):\n",
    "    if s[0] == 'M':\n",
    "        return 'M' + s[1:] + s[1:]\n",
    "    return s\n",
    "\n",
    "def rule3(s):\n",
    "    if \"III\" in s:\n",
    "        return s.replace(\"III\",\"U\")\n",
    "    else:\n",
    "        return s\n",
    "    \n",
    "def rule4(s):\n",
    "    if \"UU\" in s:\n",
    "        return s.replace(\"UU\",\"\")\n",
    "    return s"
   ]
  },
  {
   "cell_type": "code",
   "execution_count": 3,
   "metadata": {},
   "outputs": [],
   "source": [
    "s1 = \"MIII\"\n",
    "rules = [rule1,rule2,rule3,rule4]"
   ]
  },
  {
   "cell_type": "code",
   "execution_count": 4,
   "metadata": {},
   "outputs": [
    {
     "name": "stdout",
     "output_type": "stream",
     "text": [
      "MIII\n",
      "MU\n",
      "MU\n",
      "MU\n",
      "MU\n",
      "MU\n",
      "MUU\n",
      "M\n",
      "M\n",
      "M\n",
      "M\n",
      "M\n",
      "M\n",
      "M\n",
      "M\n"
     ]
    }
   ],
   "source": [
    "for i in range(15):\n",
    "    print(s1)\n",
    "    func = rules[randrange(0,4)]\n",
    "    trans_string = func(s1)\n",
    "    \n",
    "    s1 = trans_string"
   ]
  },
  {
   "cell_type": "code",
   "execution_count": null,
   "metadata": {
    "collapsed": true
   },
   "outputs": [],
   "source": []
  }
 ],
 "metadata": {
  "kernelspec": {
   "display_name": "Python [conda root]",
   "language": "python",
   "name": "conda-root-py"
  },
  "language_info": {
   "codemirror_mode": {
    "name": "ipython",
    "version": 3
   },
   "file_extension": ".py",
   "mimetype": "text/x-python",
   "name": "python",
   "nbconvert_exporter": "python",
   "pygments_lexer": "ipython3",
   "version": "3.5.3"
  }
 },
 "nbformat": 4,
 "nbformat_minor": 2
}

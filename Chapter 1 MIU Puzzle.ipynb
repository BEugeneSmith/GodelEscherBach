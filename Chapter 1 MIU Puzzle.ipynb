{
 "cells": [
  {
   "cell_type": "code",
   "execution_count": 1,
   "metadata": {
    "collapsed": true
   },
   "outputs": [],
   "source": [
    "from random import randrange,randint\n",
    "import pandas as pd"
   ]
  },
  {
   "cell_type": "code",
   "execution_count": 2,
   "metadata": {
    "collapsed": true
   },
   "outputs": [],
   "source": [
    "# generate a random set of characters from the\n",
    "def gen_axiom(maxlen=3):\n",
    "    u_chars = 'MIU'\n",
    "    return ''.join([u_chars[randrange(0,3)] for i in range(maxlen)])"
   ]
  },
  {
   "cell_type": "code",
   "execution_count": 3,
   "metadata": {
    "collapsed": true
   },
   "outputs": [],
   "source": [
    "# program the four rules\n",
    "def rule1(s):\n",
    "    if s[-1] == 'I':\n",
    "        return s + 'U'\n",
    "    return s\n",
    "\n",
    "def rule2(s):\n",
    "    if s[0] == 'M':\n",
    "        return 'M' + s[1:] + s[1:]\n",
    "    return s\n",
    "\n",
    "def rule3(s):\n",
    "    if \"III\" in s:\n",
    "        return s.replace(\"III\",\"U\")\n",
    "    else:\n",
    "        return s\n",
    "    \n",
    "def rule4(s):\n",
    "    if \"UU\" in s:\n",
    "        return s.replace(\"UU\",\"\")\n",
    "    return s"
   ]
  },
  {
   "cell_type": "code",
   "execution_count": 4,
   "metadata": {
    "collapsed": true
   },
   "outputs": [],
   "source": [
    "def gen_derivation(axiom,n_derivations=10,rules=[rule1,rule2,rule3,rule4]):\n",
    "    # generate up to n_derivations derivations\n",
    "    theorem = []\n",
    "    step_changes = []\n",
    "    step_change_ixs = []\n",
    "    for i in range(n_derivations):\n",
    "        func = rules[randrange(0,4)]\n",
    "        derivation = func(axiom)\n",
    "        if derivation == '':\n",
    "            theorem.append(axiom)\n",
    "            return theorem,len(theorem),step_changes,step_change_ixs\n",
    "\n",
    "        if i != 0:\n",
    "            if derivation != axiom:\n",
    "                step_changes.append((axiom,derivation))\n",
    "                step_change_ixs.append((i-1,i))\n",
    "        axiom = derivation\n",
    "        \n",
    "        theorem.append(axiom)\n",
    "    return theorem,len(theorem),step_changes,step_change_ixs"
   ]
  },
  {
   "cell_type": "code",
   "execution_count": 5,
   "metadata": {
    "collapsed": true
   },
   "outputs": [],
   "source": [
    "def get_first_cliff_and_drop(diff_lens,diffs):\n",
    "    cliff_drops = {\n",
    "        'drop_ixs':[],\n",
    "        'cliffs':[],\n",
    "        'drops':[],\n",
    "        'cliff_drop_diff':[],\n",
    "        'pct_cliff_drop_diff':[],\n",
    "        'overall_change':[]\n",
    "    }\n",
    "     \n",
    "    for ix,val in enumerate(diffs):\n",
    "        if (val<0) and (diffs[ix+1] >= 0):\n",
    "            cliff_drops['overall_change'].append(sum(diffs))\n",
    "            cliff_drops['drop_ixs'].append(ix+1)\n",
    "            cliff_drops['cliffs'].append(diff_lens[ix])\n",
    "            cliff_drops['drops'].append(diff_lens[ix+1])\n",
    "            \n",
    "            cliff_drop_diff = diff_lens[ix]-diff_lens[ix+1]\n",
    "            cliff_drops['cliff_drop_diff'].append(cliff_drop_diff)\n",
    "            cliff_drops['pct_cliff_drop_diff'].append(cliff_drop_diff/diff_lens[ix])\n",
    "    return cliff_drops"
   ]
  },
  {
   "cell_type": "code",
   "execution_count": 6,
   "metadata": {},
   "outputs": [],
   "source": [
    "def create_random_axiom_dataset(nsamples=20,max_axiom_size=3,max_derivations=20):\n",
    "    sample_data = []\n",
    "    all_derivations = []\n",
    "    steps = []\n",
    "    step_changes = []\n",
    "    for i in range(nsamples):\n",
    "        axiom = gen_axiom(maxlen=randint(2,max_axiom_size))\n",
    "        derivations,derivation_len,step_changes,step_change_ixs = gen_derivation(axiom,max_derivations)\n",
    "        diff_lens = [len(step) for step in derivations]\n",
    "        diffs = [diff_lens[i] - diff_lens[i-1] for i in range(len(diff_lens))][1:]\n",
    "\n",
    "        try:\n",
    "            metadata = pd.DataFrame(get_first_cliff_and_drop(diff_lens,diffs))\n",
    "            metadata.loc[:,'axiom'] = axiom\n",
    "            metadata.loc[:,'axiom_len'] = len(axiom)\n",
    "            metadata.loc[:,'sample_id'] = str(i)\n",
    "            metadata.loc[:,'derivation_length'] = derivation_len\n",
    "            metadata.loc[:,'step_longest'] = max(diff_lens)\n",
    "            metadata.loc[:,'step_shortest'] = min(diff_lens)\n",
    "            metadata.loc[:,'MU_ind'] = 'MU' in derivations\n",
    "            sample_data.append(metadata)\n",
    "            steps.append(step_changes)\n",
    "            step_changes_ixs.append(step_change_ixs)\n",
    "        except:\n",
    "            continue\n",
    "        all_derivations.append(derivations)\n",
    "    \n",
    "    sample_data = pd.concat(sample_data)\n",
    "    pct_unique_id = len(sample_data['sample_id'].unique())/nsamples\n",
    "    return sample_data,all_derivations,pct_unique_id,steps,step_changes"
   ]
  },
  {
   "cell_type": "markdown",
   "metadata": {},
   "source": [
    "Now, we run the functions above, developing derivations for 100,000 random axioms. We then see which ones "
   ]
  },
  {
   "cell_type": "code",
   "execution_count": 7,
   "metadata": {},
   "outputs": [
    {
     "data": {
      "text/plain": [
       "0.17019"
      ]
     },
     "execution_count": 7,
     "metadata": {},
     "output_type": "execute_result"
    }
   ],
   "source": [
    "nsamp = 100000\n",
    "random_theorems,derivations,pct_samples,steps,step_changes =\\\n",
    "    create_random_axiom_dataset(nsamples=nsamp,max_axiom_size=3,max_derivations=20)\n",
    "pct_samples"
   ]
  },
  {
   "cell_type": "code",
   "execution_count": null,
   "metadata": {
    "collapsed": true
   },
   "outputs": [],
   "source": []
  },
  {
   "cell_type": "code",
   "execution_count": 8,
   "metadata": {},
   "outputs": [
    {
     "data": {
      "text/html": [
       "<div>\n",
       "<style>\n",
       "    .dataframe thead tr:only-child th {\n",
       "        text-align: right;\n",
       "    }\n",
       "\n",
       "    .dataframe thead th {\n",
       "        text-align: left;\n",
       "    }\n",
       "\n",
       "    .dataframe tbody tr th {\n",
       "        vertical-align: top;\n",
       "    }\n",
       "</style>\n",
       "<table border=\"1\" class=\"dataframe\">\n",
       "  <thead>\n",
       "    <tr style=\"text-align: right;\">\n",
       "      <th></th>\n",
       "      <th>axiom</th>\n",
       "      <th>sample_id</th>\n",
       "      <th>MU_ind</th>\n",
       "    </tr>\n",
       "  </thead>\n",
       "  <tbody>\n",
       "    <tr>\n",
       "      <th>0</th>\n",
       "      <td>MUI</td>\n",
       "      <td>7</td>\n",
       "      <td>False</td>\n",
       "    </tr>\n",
       "    <tr>\n",
       "      <th>1</th>\n",
       "      <td>MUU</td>\n",
       "      <td>20</td>\n",
       "      <td>False</td>\n",
       "    </tr>\n",
       "    <tr>\n",
       "      <th>2</th>\n",
       "      <td>MII</td>\n",
       "      <td>23</td>\n",
       "      <td>False</td>\n",
       "    </tr>\n",
       "    <tr>\n",
       "      <th>3</th>\n",
       "      <td>MU</td>\n",
       "      <td>30</td>\n",
       "      <td>True</td>\n",
       "    </tr>\n",
       "    <tr>\n",
       "      <th>4</th>\n",
       "      <td>MI</td>\n",
       "      <td>34</td>\n",
       "      <td>False</td>\n",
       "    </tr>\n",
       "  </tbody>\n",
       "</table>\n",
       "</div>"
      ],
      "text/plain": [
       "  axiom sample_id  MU_ind\n",
       "0   MUI         7   False\n",
       "1   MUU        20   False\n",
       "2   MII        23   False\n",
       "3    MU        30    True\n",
       "4    MI        34   False"
      ]
     },
     "execution_count": 8,
     "metadata": {},
     "output_type": "execute_result"
    }
   ],
   "source": [
    "unique_derivations = random_theorems[['axiom','sample_id','MU_ind']].drop_duplicates()\n",
    "unique_derivations = unique_derivations.reset_index(drop=True)\n",
    "unique_derivations.head()"
   ]
  },
  {
   "cell_type": "code",
   "execution_count": 9,
   "metadata": {},
   "outputs": [
    {
     "data": {
      "text/html": [
       "<div>\n",
       "<style>\n",
       "    .dataframe thead tr:only-child th {\n",
       "        text-align: right;\n",
       "    }\n",
       "\n",
       "    .dataframe thead th {\n",
       "        text-align: left;\n",
       "    }\n",
       "\n",
       "    .dataframe tbody tr th {\n",
       "        vertical-align: top;\n",
       "    }\n",
       "</style>\n",
       "<table border=\"1\" class=\"dataframe\">\n",
       "  <thead>\n",
       "    <tr style=\"text-align: right;\">\n",
       "      <th>MU_ind</th>\n",
       "      <th>axiom</th>\n",
       "      <th>False</th>\n",
       "      <th>True</th>\n",
       "    </tr>\n",
       "  </thead>\n",
       "  <tbody>\n",
       "    <tr>\n",
       "      <th>4</th>\n",
       "      <td>MU</td>\n",
       "      <td>1376.0</td>\n",
       "      <td>3970.0</td>\n",
       "    </tr>\n",
       "    <tr>\n",
       "      <th>0</th>\n",
       "      <td>III</td>\n",
       "      <td>1347.0</td>\n",
       "      <td>NaN</td>\n",
       "    </tr>\n",
       "    <tr>\n",
       "      <th>1</th>\n",
       "      <td>IUU</td>\n",
       "      <td>1346.0</td>\n",
       "      <td>NaN</td>\n",
       "    </tr>\n",
       "    <tr>\n",
       "      <th>2</th>\n",
       "      <td>MI</td>\n",
       "      <td>1177.0</td>\n",
       "      <td>NaN</td>\n",
       "    </tr>\n",
       "    <tr>\n",
       "      <th>3</th>\n",
       "      <td>MII</td>\n",
       "      <td>794.0</td>\n",
       "      <td>NaN</td>\n",
       "    </tr>\n",
       "    <tr>\n",
       "      <th>5</th>\n",
       "      <td>MUI</td>\n",
       "      <td>1432.0</td>\n",
       "      <td>NaN</td>\n",
       "    </tr>\n",
       "    <tr>\n",
       "      <th>6</th>\n",
       "      <td>MUU</td>\n",
       "      <td>1410.0</td>\n",
       "      <td>NaN</td>\n",
       "    </tr>\n",
       "    <tr>\n",
       "      <th>7</th>\n",
       "      <td>UUI</td>\n",
       "      <td>1354.0</td>\n",
       "      <td>NaN</td>\n",
       "    </tr>\n",
       "    <tr>\n",
       "      <th>8</th>\n",
       "      <td>UUM</td>\n",
       "      <td>1408.0</td>\n",
       "      <td>NaN</td>\n",
       "    </tr>\n",
       "    <tr>\n",
       "      <th>9</th>\n",
       "      <td>UUU</td>\n",
       "      <td>1405.0</td>\n",
       "      <td>NaN</td>\n",
       "    </tr>\n",
       "  </tbody>\n",
       "</table>\n",
       "</div>"
      ],
      "text/plain": [
       "MU_ind axiom   False    True\n",
       "4         MU  1376.0  3970.0\n",
       "0        III  1347.0     NaN\n",
       "1        IUU  1346.0     NaN\n",
       "2         MI  1177.0     NaN\n",
       "3        MII   794.0     NaN\n",
       "5        MUI  1432.0     NaN\n",
       "6        MUU  1410.0     NaN\n",
       "7        UUI  1354.0     NaN\n",
       "8        UUM  1408.0     NaN\n",
       "9        UUU  1405.0     NaN"
      ]
     },
     "execution_count": 9,
     "metadata": {},
     "output_type": "execute_result"
    }
   ],
   "source": [
    "summary_unique_derivations = unique_derivations.pivot_table('sample_id','axiom','MU_ind',aggfunc='count',).reset_index()\n",
    "summary_unique_derivations.sort_values(True).head(15)"
   ]
  },
  {
   "cell_type": "code",
   "execution_count": null,
   "metadata": {
    "collapsed": true
   },
   "outputs": [],
   "source": []
  }
 ],
 "metadata": {
  "kernelspec": {
   "display_name": "Python [conda root]",
   "language": "python",
   "name": "conda-root-py"
  },
  "language_info": {
   "codemirror_mode": {
    "name": "ipython",
    "version": 3
   },
   "file_extension": ".py",
   "mimetype": "text/x-python",
   "name": "python",
   "nbconvert_exporter": "python",
   "pygments_lexer": "ipython3",
   "version": "3.5.3"
  }
 },
 "nbformat": 4,
 "nbformat_minor": 2
}
